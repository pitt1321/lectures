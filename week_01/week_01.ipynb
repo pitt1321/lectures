{
 "cells": [
  {
   "cell_type": "markdown",
   "metadata": {
    "slideshow": {
     "slide_type": "slide"
    }
   },
   "source": [
    "# Computational methods in Physics\n",
    "## Week 1\n",
    "#### Prof. Michael Wood-Vasey\n",
    "##### University of Pittsburgh, Department of Physics and Astronomy"
   ]
  },
  {
   "cell_type": "markdown",
   "metadata": {
    "slideshow": {
     "slide_type": "slide"
    }
   },
   "source": [
    "### Course Structure\n",
    "* All course materials available on GitHub page: https://github.com/pitt1321/\n",
    "* Syllabus at http://github.com/pitt1321/syllabus\n",
    "* Organized by week:\n",
    "  - Lecture and lab time each Monday and Wednesday.\n",
    "  - More focus on lab time on Friday.  Bring questions!\n",
    "  - Assignments due Friday.  What time do you want?\n",
    "* Lecture and lab time will be interactive:\n",
    "  - Introduction of new material.\n",
    "  - Interactive demonstrations.\n",
    "  - Start your assignment.\n",
    "  - Try not to miss classes; they will be hard to make up.\n",
    "  "
   ]
  },
  {
   "cell_type": "markdown",
   "metadata": {
    "slideshow": {
     "slide_type": "slide"
    }
   },
   "source": [
    "* Assignments: https://github.com/pitt1321/assignments/\n",
    "  1. [**fork** the repository][forking] to your own account.\n",
    "  2. [**Clone**][ref-clone] the repository to your computer.\n",
    "  3. Work in lab and on your own time.\n",
    "  4. Regularly [**commit**][ref-commit] your work.\n",
    "  5. Regularly [**push**][ref-push]/sync the changes up to GitHub.\n",
    "  6. [Create a **pull request**][pull-request] on the original repo to submit assignment.\n",
    "  * Create [**Issues**][issues] to ask for help or feedback \n",
    "  * Understand all the code you write!\n",
    "* Final Project:\n",
    "  - Start looking for a topic early!\n",
    "  - I will help with coding in lab time.\n",
    "  \n",
    "  <!-- Links -->\n",
    "[create-repo]: https://help.github.com/articles/create-a-repo\n",
    "[private-repos]: /guide/private_repos\n",
    "[add-to-team-action]: https://github.com/education/teachers_pet/#giving-others-access\n",
    "[teachers-pet]: https://github.com/education/teachers_pet\n",
    "[help-add-to-team]: https://help.github.com/articles/adding-organization-members-to-a-team\n",
    "[help-access-control]: https://help.github.com/articles/what-are-the-different-access-permissions#organization-accounts\n",
    "[forking]: https://guides.github.com/activities/forking/\n",
    "[issues]: https://guides.github.com/features/issues/\n",
    "[ref-clone]: http://gitref.org/creating/#clone\n",
    "[ref-commit]: http://gitref.org/basic/#commit\n",
    "[ref-push]: http://gitref.org/remotes/#push\n",
    "[pull-request]: https://help.github.com/articles/creating-a-pull-request\n",
    "[raw]: https://raw.githubusercontent.com/education/guide/master/docs/forks.md"
   ]
  },
  {
   "cell_type": "markdown",
   "metadata": {
    "slideshow": {
     "slide_type": "slide"
    }
   },
   "source": [
    "## Where to Go for Help\n",
    "* I will be around during working time during each class after lecture time.\n",
    "* Office hours: Wednesday, 11:00 to 12:00\n",
    "* Make an appointment to meet with me.\n",
    "* The textbook.  \"Computational Physics\", Mark Newman.\n",
    "  - **Read it.**\n",
    "* Supplemental textbook \"Effective Computation in Physics\", Scopatz and Huff.\n",
    "  - This is the textbook we used last year.  It has much more on `git` and software engineering, but not very much on numerical methods.\n",
    "* Lots of Python and GitHub help available online.\n",
    "  - Scientific Python tutorial and reference: http://scipy-lectures.github.io/\n",
    "  - GitHub: https://help.github.com/articles/good-resources-for-learning-git-and-github/"
   ]
  },
  {
   "cell_type": "markdown",
   "metadata": {
    "slideshow": {
     "slide_type": "slide"
    }
   },
   "source": [
    "## Course Outline\n",
    "* Week 1: Introduction to Python.\n",
    "* Week 2: Python arrays and plotting.\n",
    "* Week 3: Random numbers, Monte Carlo simulation.\n",
    "* Week 4: Numerical integration.\n",
    "* Week 5: Solving equations, root finding.\n",
    "* Week 6: NumPy and SciPy, matrix methods.\n",
    "* Week 7: Ordinary differential equations (ODEs).\n",
    "* Week 8: Solving systems of ODEs.\n",
    "* Week 9: Fourier Transforms.\n",
    "* Week 10: Discrete/continuous nonlinear problems.\n",
    "* Week 11: Thermodynamic simulations.\n",
    "* Week 12: Partial differential equations (PDEs).\n",
    "* Week 13: PDEs continued.\n",
    "* Week 14: Final project presentations."
   ]
  },
  {
   "cell_type": "markdown",
   "metadata": {
    "slideshow": {
     "slide_type": "slide"
    }
   },
   "source": [
    "## Python is \n",
    "* A high-level language.\n",
    "  - Built-in high level data structures.\n",
    "  - Object oriented with some inspiration from functional languages.\n",
    "* An interpreted language.\n",
    "  - You don't compile your programs.\n",
    "  - Exception framework with tracebacks\n",
    "* Huge standard library with all sorts of functionality.\n",
    "* Extensible and embeddable.\n",
    "* Cross-platform and free.\n",
    "* Great as both a scripting/glue language and for full-blown application development."
   ]
  },
  {
   "cell_type": "markdown",
   "metadata": {},
   "source": [
    "## Python Installation Options\n",
    "* Computer options:\n",
    "  - Use lab computers with pre-installed Python and \n",
    "    * Clone and commit/push back to GitHub for each session.\n",
    "    * store your data on a flash drive.\n",
    "    * You can try Box, but sadly Box doesn't always work the best with `git`.\n",
    "  - Use your own computer and install software yourself.\n",
    "    * I will provide some support, but your colleagues and the wider web will be the best resources."
   ]
  },
  {
   "cell_type": "markdown",
   "metadata": {
    "slideshow": {
     "slide_type": "slide"
    }
   },
   "source": [
    "* For your personal machine, I recommend  Anaconda:\n",
    "  - https://store.continuum.io/cshop/anaconda/\n",
    "  - It includes the key main packages `numpy`, `scipy`, `matplotlib`, and `iPython`; and also `pandas`\n",
    "* Entought Canopy distribution is also  popular \n",
    "  - Pros: \n",
    "    * Integrated Development Environment (IDE) which some people really like.  \n",
    "    * Is on the Thaw 210 lab computers.\n",
    "  - Cons: \n",
    "    * Is currently restricted to Python 2.7.\n",
    "    * Is nominally not free, but is free for academic use (i.e., for .edu email addresses)."
   ]
  },
  {
   "cell_type": "markdown",
   "metadata": {
    "slideshow": {
     "slide_type": "slide"
    }
   },
   "source": [
    "## Running Python Interactively\n",
    "There are many ways Python can be used:\n",
    "\n",
    "* Interactively:\n",
    "  - Run the python program with no arguments and get:\n",
    "  ```\n",
    "Python 3.5.2 (default, Jul 28 2016, 21:28:07)\n",
    "[GCC 4.2.1 Compatible Apple LLVM 7.0.2 (clang-700.1.81)] on darwin\n",
    "Type \"help\", \"copyright\", \"credits\" or \"license\" for more information.\n",
    ">>>\n",
    "  ```\n",
    "  - Useful for tests, debugging, and for demonstrations.\n",
    "  - This is where we'll start today.\n",
    "\n",
    "## Running Python Interactively\n",
    "* Non-interactively:\n",
    "  - Write a script (a text file) and run it: `python foo.py`\n",
    "* Using iPython Notebook:\n",
    "  - Present code, text, and results in one file.\n",
    "  - Allows interactive analysis\n",
    "  - Encourages integration of explanation, code, and results.\n",
    "  - This is where we'll end up."
   ]
  },
  {
   "cell_type": "markdown",
   "metadata": {
    "slideshow": {
     "slide_type": "slide"
    }
   },
   "source": [
    "## Introduction to iPython/Jupyter\n",
    "* iPython is a useful and improved interface over the base python interactive command line.\n",
    "* iPython Notebook is a web-browser-based interface that uses ``Notebook''s to present content, code, and results in an integrated file.\n",
    "* From the command line type the following to open up a web browser that you will use to interact with iPython.\n",
    "`ipython notebook`\n",
    "  - Main site: http://ipython.org/\n",
    "  - Quick demo: https://youtu.be/H6dLGQw9yFQ\n",
    "  - It's nice to see code and results together when developing\n",
    "  - The integrated help and auto-completion is really useful.\n",
    "  - Can save the notebook including results\n",
    "  - Can export the code to a separate Python file for reuse by other programs.\n",
    "  - Lots of videos and demos, including at http://ipython.org/videos.html.  Check them out and come up to speed.\n",
    "  - Tutorials and example notebook:  http://nbviewer.ipython.org/github/ipython/ipython/blob/master/examples/Notebook/Index.ipynb\n",
    "  - ``A gallery of interesting iPython Notebooks'' https://github.com/ipython/ipython/wiki/A-gallery-of-interesting-IPython-Notebooks\n",
    "  - NBViewer:  A service through which you can publish read-only versions of iPython notebooks.  http://nbviewer.ipython.org\n",
    "* This slide presentation is actually an iPython notebook."
   ]
  },
  {
   "cell_type": "markdown",
   "metadata": {
    "slideshow": {
     "slide_type": "slide"
    }
   },
   "source": [
    "## Homework 1 - Due 2015-09-02, at 11:59pm\n",
    "* Create a GitHub account and tell me (we should have just done this in class)\n",
    "* Install Python and iPython on your computer.\n",
    "  - Python version 3.5 or later.\n",
    "  - If you are already up and running with Python 2.7, you can keep running that but please be aware of the differences and submit code that runs under Python 3 using the ``__future__`` module: https://docs.python.org/2/library/__future__.html\n",
    "* Complete Problem Set 1. Turn in your code via GitHub.\n",
    "  - An iPython file with:\n",
    "    * Your written answers.\n",
    "    * Your code.\n",
    "    * Your output.\n",
    "    * Images of plots as required."
   ]
  },
  {
   "cell_type": "code",
   "execution_count": null,
   "metadata": {
    "collapsed": false
   },
   "outputs": [],
   "source": []
  }
 ],
 "metadata": {
  "celltoolbar": "Slideshow",
  "kernelspec": {
   "display_name": "Python 3",
   "language": "python",
   "name": "python3"
  },
  "language_info": {
   "codemirror_mode": {
    "name": "ipython",
    "version": 3
   },
   "file_extension": ".py",
   "mimetype": "text/x-python",
   "name": "python",
   "nbconvert_exporter": "python",
   "pygments_lexer": "ipython3",
   "version": "3.4.3"
  }
 },
 "nbformat": 4,
 "nbformat_minor": 0
}
