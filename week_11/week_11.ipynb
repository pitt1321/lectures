{
 "cells": [
  {
   "cell_type": "markdown",
   "metadata": {},
   "source": [
    "# Computational methods in Physics\n",
    "## Week 12\n",
    "#### Prof. Michael Wood-Vasey\n",
    "##### [based on materials from Prof. Brian D'Urso]\n",
    "##### University of Pittsburgh, Department of Physics and Astronomy"
   ]
  },
  {
   "cell_type": "markdown",
   "metadata": {},
   "source": [
    "#### ODE Initial Value Problems\n",
    "We have been solving equations like:\n",
    "\\begin{equation*}\n",
    "\\frac{d\\mathbf{y}(t)} {dt} =  \\mathbf{f}(\\mathbf{y}, t)\n",
    "\\end{equation*}\n",
    "where:\n",
    "\n",
    "* The function $\\mathbf{f}(\\mathbf{y}, t)$ is given.\n",
    "* An initial condition is given, e.g. $y(0) = 1.0$.\n",
    "* The problem is to find $\\mathbf{y}(t)$ for a requested range of $t$.\n",
    "* We refer to finding the solution $\\mathbf{y}(t)$ as\n",
    "solving or integrating a\n",
    "first order\n",
    "ordinary differential equation (ODE)\n",
    "initial value problem."
   ]
  },
  {
   "cell_type": "markdown",
   "metadata": {},
   "source": [
    "#### Partial Differential Equations (PDEs)\n",
    "\n",
    "* PDEs contain derivatives with respect to multiple variables, e.g.: $\\frac{\\partial U}{\\partial t}$, $\\frac{\\partial U}{\\partial x}$, etc.\n",
    "* The solution to our PDE is a field, e.g. $U(x, y, z, t)$.\n",
    "* $U$ might be a physical quantity e.g. ($T$, $P$) which varies continuously in $x$ and $t$.\n",
    "* Changes in $U(x,y,z,t)$ affect $U$ nearby.\n",
    "*  What about boundary conditions or initial conditions?\n",
    "*  How do we solve PDEs numerically?\n",
    "\n",
    "* Need to discretize multiple independent variables."
   ]
  },
  {
   "cell_type": "markdown",
   "metadata": {},
   "source": [
    "#### General Forms of 2-D PDEs\n",
    "$$\n",
    "A\\,  \\frac{\\partial^2 U}{\\partial x^2}+ 2B \\, \\frac{\\partial^2\n",
    "U}{\\partial x \\partial y}+C  \\,\\frac{\\partial^2 U}{\\partial y^2} +\n",
    "D\\, \\frac{\\partial U}{\\partial x}+E \\,\\frac{\\partial U}{\\partial\n",
    "y} =F\n",
    "$$\n",
    "\n",
    "| **Elliptic** | **Parabolic** | **Hyperbolic**  |\n",
    "|--------------|---------------|-----------------|\n",
    "| $d=B^2-AC<0$ | $d=B^2-AC=0$  | $d=B^2-AC>0$    |\n",
    "| $\\nabla^2 U(x,y) = -4\\pi\\rho(x,y)$ | $\\frac{\\partial^2 U(x,t)}{\\partial x^2}= a\\,\\frac{\\partial U(x,t)}{\\partial t}$  | $\\frac{\\partial^2 U(x,t)}{\\partial x^2}=c^{-2}\\frac{\\partial^2 U}{\\partial t^2}$ |\n",
    "| Poisson | Heat | Wave |\n",
    "\n",
    "* Elliptic PDE:  All 2nd order, same signs.\n",
    "* Parabolic PDE:  1st order and 2nd order derivatives.\n",
    "* Hyperbolic PDE:  All 2nd order, opposite signs.\n"
   ]
  },
  {
   "cell_type": "markdown",
   "metadata": {},
   "source": [
    "#### Relation to Boundary Conditions & Uniqueness\n",
    "| **Boundary Condition**  | **Elliptic** (Poisson) |  **Hyperbolic** (Wave)| **Parabolic** (Heat) |\n",
    "|---------------|--------------|-----------------|----------------|\n",
    "| Dirichlet open $S$   | Under | Under | *Unique & stable (1-D)* |\n",
    "| Dirichlet closed $S$ | *Unique & stable* | Over | Over |\n",
    "| Neumann open $S$     | Under | Under | *Unique & Stable (1-D)* |\n",
    "| Neumann closed $S$   | *Unique & stable* | Over |Over |\n",
    "| Cauchy open $S$ | Nonphysical | *Unique & stable* | Over |\n",
    "| Cauchy closed $S$|Over | Over| Over |\n",
    "\n",
    "\n",
    "* Boundary conditions: must be sufficient for unique solution.\n",
    "* Dirichlet: value on surrounding closed $S$.\n",
    "* Neumann: value normal derivative on surrounding $S$.\n",
    "* Cauchy: both solution & derivative on closed boundary."
   ]
  },
  {
   "cell_type": "markdown",
   "metadata": {},
   "source": [
    "#### Solving PDEs & ODEs Is Different\n",
    "No Standard PDE Solver\n",
    "\n",
    "* Standard form for ODE:\n",
    "$$\n",
    "\\frac{d\\mathbf{y}(t)} {dt} =  \\mathbf{f}(\\mathbf{y}, t)\n",
    "$$\n",
    "* Single independent variable $\\implies$ standard algorithm\n",
    "(e.g. `rk4`).\n",
    "* PDEs: several independent variables: $U(x,y,z,t)$.\n",
    "* $\\implies$  PDE solving is complicated:\n",
    "\n",
    "*  More variables, more equations, more  ICs, BCs.\n",
    "* Each PDE and particular BCs $\\implies$ particular algorithm."
   ]
  },
  {
   "cell_type": "markdown",
   "metadata": {},
   "source": [
    "### Heat Equation\n",
    "\n",
    "\n",
    "#### Problem: How Does a Bar Cool?\n",
    "![](figures/figure1712cFix.png)\n",
    "\n",
    "Insulated Metallic Bar Touching Ice\n",
    "\n",
    "* Aluminum bar, $L=1$~m, $w$ along $x$.\n",
    "* Insulated along length, ends in ice ($T=0^\\circ$C).\n",
    "* Initially $T=100^\\circ$C.\n",
    "* How does temperature vary in space and time?"
   ]
  },
  {
   "cell_type": "markdown",
   "metadata": {},
   "source": [
    "#### The Parabolic Heat Equation (Theory)\n",
    "1. Nature: heat flow  hot $\\rightarrow$ cold  \n",
    "  $T$ = temperature\n",
    "  $K$ = conductivity  \n",
    "  $C$ = specific heat  \n",
    "  $\\rho$ = density  \n",
    "$$H = - K \\,\\mathbf{\\nabla} T(\\mathbf{x}, t)$$\n",
    "2. $Q(t)$ = contained heat\n",
    "$$Q(t) = \\int dx\\, C \\rho(x) \\, T(x, t)$$\n",
    "3. Heat Eqn: $\\Delta T$ from flow\n",
    "$$\\frac{\\partial T(x, t)}{\\partial t} = \\frac{K}{C \\rho} \\nabla^2 T(x, t)$$\n",
    "4. Parabolic PDE in  $x$ & $t$\n",
    "$$\\frac{\\partial T(x,t)}{\\partial t} = \\frac{K}{C\\rho}\\frac{\\partial ^2 T(x,t)}{\\partial x^2}$$\n",
    "5. \"Analytic\" Solution  \n",
    "   Initial condition:  \n",
    "   $T(x,t=0) = 100^\\circ$C  \n",
    "   Boundary conditions:  \n",
    "   $T(x=0) = T(x=L) = 0^\\circ$C  \n",
    "$$T(x,t) = \\sum_{n=1,3,\\ldots}^\\infty  \\frac{400\\sin\\,k_n x\\,e^{-\\alpha k_n^2 t}}{n\\pi} $$\n",
    "$$(k_n = \\frac{n\\pi}{L}, \\alpha = \\frac{K}{C\\rho})$$\n"
   ]
  },
  {
   "cell_type": "markdown",
   "metadata": {},
   "source": [
    "#### Solution Via Time Stepping\n",
    "\n",
    "![](figures/figure1713c.png)\n",
    "\n",
    "\\begin{align*}\n",
    "\\frac{\\partial T}{\\partial t} \\simeq & \\frac{T(x,t+\\Delta t)-T(x,t)}{\\Delta t}\\\\\n",
    "\\frac{\\partial^2 T}{\\partial x^2} \\simeq & \\frac{T(x +\\Delta x)+T(x-\\Delta x)-2 T(x)}{(\\Delta x)^2}\n",
    "\\end{align*}\n",
    "\n",
    "\n",
    "* Differential $\\rightarrow$ difference equation.\n",
    "* Solve at $x,t$ lattice sites.\n",
    "* blue = BC\n",
    "  row 0 = IC\n",
    "* $\\partial t$: forward difference  \n",
    "  $\\partial^2 x$: central difference  \n",
    "  $\\implies$  difference  heat equation  \n",
    "* Step $\\downarrow$ one $t$ to next.\n",
    "\n",
    "\n",
    "\\begin{align}\n",
    "\\frac{T(x,t+ \\Delta t)-T(x,t)}{\\Delta t} =& \\frac{K}{C\\rho}\\frac{T(x+\\Delta x,t) +T(x-\\Delta x,t) -2 T(x,t)}{\\Delta x^2} \\\\\n",
    "T_{i,j+1} =& T_{i,j}+ \\eta \\left[T_{i+1,j}+T_{i-1,j}-2T_{i,j}\\right]\n",
    "\\end{align}"
   ]
  },
  {
   "cell_type": "markdown",
   "metadata": {},
   "source": [
    "#### Von Neumann Stability Analysis\n",
    "$$\n",
    "T_{m,j+1} \\ = \\  T_{m,j}+ \\eta\n",
    "\\left[T_{m+1,j}+T_{m-1,j}-2T_{m,j}\\right], \\\\\\  x = m \\Delta x,  t=j \\Delta t\n",
    "$$\n",
    "\n",
    "\n",
    "* How do we tell if difference solution is approximately a solution of the PDE?\n",
    "  - It's certainly bad if difference diverges.\n",
    "* Analysis of error behavior possible:\n",
    "  - Expand spatial variation of error in Fourier series.\n",
    "  - Examine time dependence of each term in series.\n",
    "  - For stability, all terms must decay exponentially with time $t$.\n",
    "\n",
    "* Requirement for stability:\n",
    "\\begin{equation}\n",
    "\\eta = \\frac{K\\,\\Delta t}{C\\rho\\,\\Delta x^2}<\\frac{1}{2} \n",
    "\\end{equation}\n",
    "* $\\implies$ Smaller $\\Delta t$ more stable\n",
    "* To use $\\downarrow$ $\\Delta x$ must use $\\downarrow$ $\\Delta t$"
   ]
  },
  {
   "cell_type": "markdown",
   "metadata": {},
   "source": [
    "### Classic Problem $V$ for Arbitrary Geometry & Boundary Conditionss\n",
    "![](figures/figure171c.png)\n",
    "\n",
    "#### Solve *Inside* Charge-Free Square\n",
    "* Boundaries are conductors at fixed voltage.\n",
    "* Closed boundary (insulate openings).\n",
    "* $\\implies$ Neumann conditions on the boundary.\n",
    "* $\\implies$ Unique & stable solution."
   ]
  },
  {
   "cell_type": "markdown",
   "metadata": {},
   "source": [
    "### Laplace Equation\n",
    "\n",
    "\n",
    "#### Classic Problem: $V$ for Arbitrary Geometry & Boundary Conditions \n",
    "\n",
    "![](figures/figure171c.png)\n",
    "\n",
    "#### Solve **Inside Charge-Free Square**\n",
    "\n",
    "* Boundaries are conductors at fixed voltage.\n",
    "* Closed boundary (insulate openings).\n",
    "* $\\implies$ Neumann conditions on the boundary.\n",
    "* $\\implies$ Unique & stable solution.\n"
   ]
  },
  {
   "cell_type": "markdown",
   "metadata": {},
   "source": [
    "#### Laplace & Poisson Elliptic PDEs (Theory)\n",
    "\n",
    "\n",
    "* Classical EM,  static charges, **Poisson Equation**:\n",
    "$$\n",
    "\\nabla^2 U(x) = - 4 \\pi \\rho(x)\n",
    "$$\n",
    "* **Laplace equation** if $\\rho(x)=0$:\n",
    "$$\n",
    "\\nabla^2 U(x) = 0\n",
    "$$\n",
    "* Solve in 2-D rectangular coordinates:\n",
    " $$\n",
    "\\frac{\\partial^2 U(x,y)}{\\partial x^2}+ \\frac{\\partial^2\n",
    "U(x,y)}{\\partial y^2 } =\n",
    "\\begin{cases}\n",
    "0, & \\mbox{Laplace equation,} \\\\\n",
    "- 4 \\pi \\rho(x), & \\mbox{Poisson equation}\n",
    "\\end{cases}\n",
    " $$\n",
    "* $U(x,y)$: two independent variables $\\implies$ PDE."
   ]
  },
  {
   "cell_type": "markdown",
   "metadata": {},
   "source": [
    "#### Fourier Series Solution As Algorithm\n",
    "#### Standard Textbook Solution Not Always Good\n",
    "$$\n",
    "U(x,y)=\\sum_{n=1,3,5,\\ldots}^\\infty \\frac{400}{n\\pi} \\sin\n",
    "\\left(\\frac{n\\pi x}{L}\\right)\\, \\frac{\\sinh (n\\pi y/L)}{\\sinh\n",
    "(n\\pi)}\n",
    "$$\n",
    "\n",
    "\n",
    "* Sum not separable: $\\neq \\ X(x)\\ Y(y)$. \n",
    "* Sum = infinite; not true analytic solution.\n",
    "* **Algorithm: $\\sum^{\\infty} \\simeq \\sum^{N}$**\n",
    "* Painfully slow convergence $\\implies$ round-off error.\n",
    "* $\\sinh(n)$ means overflow for large $n$.\n",
    "\n",
    "* Converges in *mean square*, Gibbs overshoot. $N\\neq\\infty$"
   ]
  },
  {
   "cell_type": "markdown",
   "metadata": {},
   "source": [
    "#### Fourier-Gibb's Overshoot at Discontinuities\n",
    "![](figures/figure172c.png)\n",
    "\n",
    "\n",
    "#### Finite-Difference Form of Poisson Equation\n",
    "$$\n",
    "\\frac{\\partial^2 U(x,y)}{\\partial x^2}+ \\frac{\\partial^2\n",
    "U(x,y)}{\\partial y^2 } =\n",
    "\\begin{cases}\n",
    "0, & \\mbox{Laplace equation,} \\\\\n",
    "- 4 \\pi \\rho(x), & \\mbox{Poisson equation}\n",
    "\\end{cases}\n",
    "$$\n",
    "\n",
    "![](figures/figure173c.png)\n",
    "\n",
    "* Form 2-D $x-y$ lattice.\n",
    "* Solve for $U$ at each lattice site.\n",
    "* Derivatives $\\rightarrow$ **finite-differences**.\n",
    "* Or use finite-elements (non-square grid)\n",
    "  $\\implies$ more efficient, harder setup"
   ]
  },
  {
   "cell_type": "markdown",
   "metadata": {},
   "source": [
    "#### Finite-Difference Form of Poisson Equation\n",
    "\n",
    "1. Forward difference $\\partial/\\partial x$:\n",
    "\\begin{align*}\n",
    "U(x +\\Delta x, y) = &  U(x,y) + \\frac{\\partial U} {\\partial x} \\Delta x\n",
    "+ \\frac{1}{2} \\frac{\\partial^2 U} {\\partial x^2}(\\Delta x)^2 + \\cdots \\\\\n",
    "U(x -\\Delta x, y) = &  U(x,y) - \\frac{\\partial U}{\\partial x}\n",
    "\\Delta x + \\frac{1} {2} \\frac{\\partial^2 U}{\\partial x^2} (\\Delta\n",
    "x)^2 - \\cdots\n",
    "\\end{align*}\n",
    "2. Add series, odd terms cancel:\n",
    "$$\n",
    "\\frac{\\partial^2 U(x,y)}{\\partial x^2} \\simeq \n",
    "\\frac{U(x+\\Delta x, y) + U(x-\\Delta x, y) -2U(x,y)} {(\\Delta x)^2}\n",
    "$$\n",
    "  $\\implies$ Finite-difference Poisson PDE:\n",
    "\\begin{align*}\n",
    "& \\frac{U(x+\\Delta x,y) + U(x-\\Delta x,y)-2 U(x,y)}{(\\Delta x)^2} + \\\\\n",
    "& \\frac{U(x,y+\\Delta y) + U(x,y-\\Delta y)-2\n",
    "U(x,y)}{(\\Delta y)^2} = -4\\pi\\rho\n",
    "\\end{align*}"
   ]
  },
  {
   "cell_type": "markdown",
   "metadata": {},
   "source": [
    "#### Solve Discrete Poisson Equation on Lattice\n",
    "\n",
    "\\begin{align}\n",
    "- 4 \\pi \\rho(x) =& \\frac{\\partial^2 U(x,y)}{\\partial x^2}+\\frac{\\partial^2 U(x,y)}{\\partial y^2 }\\\\\n",
    "-4\\pi\\rho_{i,j}\\Delta^2 =& U_{i+1, j}  + U_{i-1, j}  +  U_{i, j+1} + U_{i, j-1} -4 U_{i,j} \\\\\n",
    "\\Rightarrow\\quad U_{i,j} =& \\frac{1}{4}\\left[ U_{i+1,j}+U_{i-1,j}+U_{i,j+1}+U_{i,j-1} \\right] + \\pi\\rho_{i,j} \\Delta^2\n",
    "\\end{align}\n",
    "\n",
    " ![](figures/figure173c.png)\n",
    "\n",
    "* Solve (2): a **big** matrix!\n",
    "* **Correct solution = average of 4 nearest neighbors.**\n",
    "* Can we iterate to relax to the solution?\n",
    "* Need to know if we arrive or fail."
   ]
  },
  {
   "cell_type": "markdown",
   "metadata": {},
   "source": [
    "#### Relaxation Method\n",
    "![](figures/figure173c.png)\n",
    "\n",
    "#### How do we iterate towards a solution?\n",
    "\n",
    "* Jacobi: update $U$ after full sweep:\n",
    "\n",
    "* Maintains symmetry of BC.\n",
    "\n",
    "* Gauss--Seidel: always use latest $U$:\n",
    "\\begin{equation*}\n",
    "U^{\\rm(new)}_{i,j} = \\frac{1}{4}\\left[U^{\\rm (old)}_{i+1,j} + U^{\\rm (new)}_{i-1,j} + U^{\\rm (old)}_{i,j+1} +  U^{\\rm (new)}_{i,j-1} \\right]\n",
    "\\end{equation*}\n",
    "\n",
    "* Faster convergence $\\implies$ $\\downarrow$ RO error.\n",
    "* Decreased memory.\n",
    "* Distorts symmetry of BCs."
   ]
  },
  {
   "cell_type": "markdown",
   "metadata": {},
   "source": [
    "#### Successive Over Relaxation (SOR)\n",
    "\n",
    "#### New = Old + Residual\n",
    "\\begin{align}\n",
    "U^{\\rm (new)_{i,j}}  = & { U^{\\rm (old)}_{i,j}  + r_{i,j}}\\\\\n",
    "r_{i,j } \\equiv & U^{\\rm (new)}_{i,j} - U^{\\rm (old)}_{i,j} \\\\\n",
    " =& {\\frac{1}{4}\\left[U^{\\rm (old)}_{i+1,j} + U^{\\rm (new)}_{i-1,j} + U^{\\rm (old)}_{i,j+1} +  U^{\\rm (new)}_{i,j-1} \\right] \n",
    "-U^{\\rm (old)}_{i,j}} \\\\\n",
    "\\end{align}"
   ]
  },
  {
   "cell_type": "markdown",
   "metadata": {},
   "source": [
    "**Successive Over Relaxation**\n",
    "$$\n",
    " U^{\\rm (new)_{i,j} = U^{\\rm (old)}_{i,j} + \\omega \\ r_{i,j}}\n",
    "$$\n",
    "\n",
    "|       Method     |    $\\omega$     |\n",
    "| ---------------- | --------------- |\n",
    "| Gauss-Seidel     | $=1$      |\n",
    "| Over-relaxation  | $\\ge 1$  |\n",
    "| Under-relaxation | $<1$     |\n",
    "| Unstable         | $\\geq 2$ |\n",
    " \n",
    "* Determine $\\omega$ empirically\n"
   ]
  },
  {
   "cell_type": "markdown",
   "metadata": {},
   "source": [
    "#### Non Ideal Capacitors\n",
    "#### Small Plates, Large Gaps \\imply Edge \\& Fringe Effects\n",
    "\n",
    "![](figures/figure178c.png)\n",
    "\n",
    "* $U=0$ boundary for uniqueness.\n",
    "* Simple: thin plates $\\pm 100$ V.\n",
    "* Interest: thick plates, $\\rho(x) =?$\n",
    "  Laplace $\\implies$ $U(x,y)$\n",
    "  Poisson $\\implies$ $\\rho(x,y)$\\\\*\n",
    "* Could have arbitrary BCs\n",
    "  e.g. $U(x) = 100 \\sin\\left(\\frac{2\\pi x}{w}\\right)$\n"
   ]
  }
 ],
 "metadata": {
  "kernelspec": {
   "display_name": "Python 3",
   "language": "python",
   "name": "python3"
  },
  "language_info": {
   "codemirror_mode": {
    "name": "ipython",
    "version": 3
   },
   "file_extension": ".py",
   "mimetype": "text/x-python",
   "name": "python",
   "nbconvert_exporter": "python",
   "pygments_lexer": "ipython3",
   "version": "3.4.3"
  }
 },
 "nbformat": 4,
 "nbformat_minor": 0
}
